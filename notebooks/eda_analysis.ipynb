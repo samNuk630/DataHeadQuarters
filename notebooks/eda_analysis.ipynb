#EDA Analysis
## Load Data 
- Import pandas
- Load dataset
- Check shape

## Basic Analysis
- df.head()
- df.tail()
- df.describe()
- df.info()

